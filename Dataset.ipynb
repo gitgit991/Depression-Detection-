{
  "nbformat": 4,
  "nbformat_minor": 0,
  "metadata": {
    "colab": {
      "provenance": [],
      "authorship_tag": "ABX9TyPTRyLHSIRb76hAlUnXXz+h",
      "include_colab_link": true
    },
    "kernelspec": {
      "name": "python3",
      "display_name": "Python 3"
    },
    "language_info": {
      "name": "python"
    }
  },
  "cells": [
    {
      "cell_type": "markdown",
      "metadata": {
        "id": "view-in-github",
        "colab_type": "text"
      },
      "source": [
        "<a href=\"https://colab.research.google.com/github/gitgit991/Depression-Detection-/blob/main/Dataset.ipynb\" target=\"_parent\"><img src=\"https://colab.research.google.com/assets/colab-badge.svg\" alt=\"Open In Colab\"/></a>"
      ]
    },
    {
      "cell_type": "code",
      "execution_count": 1,
      "metadata": {
        "colab": {
          "base_uri": "https://localhost:8080/"
        },
        "id": "CkFafPuxW4jY",
        "outputId": "11aff9b4-aa94-42fb-8fee-2739c8eaaef1"
      },
      "outputs": [
        {
          "output_type": "stream",
          "name": "stdout",
          "text": [
            "Mounted at /content/drive\n"
          ]
        }
      ],
      "source": [
        "from google.colab import drive\n",
        "drive.mount('/content/drive')"
      ]
    },
    {
      "cell_type": "code",
      "source": [
        "import os\n",
        "\n",
        "# Change directory to your dataset location\n",
        "dataset_path = \"/content/drive/My Drive/MCA Dataset\"\n",
        "os.chdir(dataset_path)"
      ],
      "metadata": {
        "id": "M_y8HCwEXTnN"
      },
      "execution_count": 2,
      "outputs": []
    },
    {
      "cell_type": "code",
      "source": [
        "!mkdir -p train_data test_data dev_data\n"
      ],
      "metadata": {
        "id": "oQTo35eEXVx1"
      },
      "execution_count": 3,
      "outputs": []
    },
    {
      "cell_type": "code",
      "source": [
        "import numpy as np\n",
        "import pandas as pd\n",
        "\n",
        "dev_path = \"/content/drive/My Drive/MCA Dataset/dev_split_Depression_AVEC2017.csv\"\n",
        "test_path = \"/content/drive/My Drive/MCA Dataset/full_test_split.csv\"\n",
        "train_path = \"/content/drive/My Drive/MCA Dataset/train_split_Depression_AVEC2017.csv\"\n",
        "\n",
        "dev = np.array(pd.read_csv(dev_path, delimiter=',', encoding='utf-8'))[:, 0:2]\n",
        "test = np.array(pd.read_csv(test_path, delimiter=',', encoding='utf-8'))[:, 0:2]\n",
        "train = np.array(pd.read_csv(train_path, delimiter=',', encoding='utf-8'))[:, 0:2]\n"
      ],
      "metadata": {
        "id": "yRmJCLFtXYi6"
      },
      "execution_count": 4,
      "outputs": []
    },
    {
      "cell_type": "code",
      "source": [
        "for i in range(len(dev)):\n",
        "    zip_file = f\"/content/drive/My Drive/MCA Dataset/{int(dev[i][0])}_P.zip\"\n",
        "    if os.path.exists(zip_file):\n",
        "        !unzip -q \"{zip_file}\" -d dev_data\n",
        "\n",
        "for i in range(len(test)):\n",
        "    zip_file = f\"/content/drive/My Drive/MCA Dataset/{int(test[i][0])}_P.zip\"\n",
        "    if os.path.exists(zip_file):\n",
        "        !unzip -q \"{zip_file}\" -d test_data\n",
        "\n",
        "for i in range(len(train)):\n",
        "    zip_file = f\"/content/drive/My Drive/MCA Dataset/{int(train[i][0])}_P.zip\"\n",
        "    if os.path.exists(zip_file):\n",
        "        !unzip -q \"{zip_file}\" -d train_data\n"
      ],
      "metadata": {
        "id": "vh6DdhMAYi1o"
      },
      "execution_count": 5,
      "outputs": []
    }
  ]
}